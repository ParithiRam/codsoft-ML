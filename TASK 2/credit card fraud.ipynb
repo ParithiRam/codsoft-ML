{
  "metadata": {
    "kernelspec": {
      "name": "python",
      "display_name": "Python (Pyodide)",
      "language": "python"
    },
    "language_info": {
      "codemirror_mode": {
        "name": "python",
        "version": 3
      },
      "file_extension": ".py",
      "mimetype": "text/x-python",
      "name": "python",
      "nbconvert_exporter": "python",
      "pygments_lexer": "ipython3",
      "version": "3.8"
    }
  },
  "nbformat_minor": 4,
  "nbformat": 4,
  "cells": [
    {
      "cell_type": "code",
      "source": "import pandas as pd\nimport matplotlib.pyplot as plt\nimport numpy as np",
      "metadata": {
        "trusted": true
      },
      "outputs": [],
      "execution_count": 1
    },
    {
      "cell_type": "code",
      "source": "fraudTrain_df = pd.read_csv('fraudTrain.csv')",
      "metadata": {
        "trusted": true
      },
      "outputs": [],
      "execution_count": 2
    },
    {
      "cell_type": "code",
      "source": "fraudTrain_df['is_fraud'] = fraudTrain_df['is_fraud'].astype(bool)",
      "metadata": {
        "trusted": true
      },
      "outputs": [],
      "execution_count": 3
    },
    {
      "cell_type": "code",
      "source": "fraudTrain_df.info()",
      "metadata": {
        "trusted": true
      },
      "outputs": [
        {
          "name": "stdout",
          "text": "<class 'pandas.core.frame.DataFrame'>\nRangeIndex: 778887 entries, 0 to 778886\nData columns (total 23 columns):\n #   Column                 Non-Null Count   Dtype  \n---  ------                 --------------   -----  \n 0   Unnamed: 0             778887 non-null  int64  \n 1   trans_date_trans_time  778887 non-null  object \n 2   cc_num                 778887 non-null  int64  \n 3   merchant               778887 non-null  object \n 4   category               778887 non-null  object \n 5   amt                    778887 non-null  float64\n 6   first                  778887 non-null  object \n 7   last                   778887 non-null  object \n 8   gender                 778887 non-null  object \n 9   street                 778887 non-null  object \n 10  city                   778887 non-null  object \n 11  state                  778887 non-null  object \n 12  zip                    778887 non-null  int64  \n 13  lat                    778887 non-null  float64\n 14  long                   778887 non-null  float64\n 15  city_pop               778887 non-null  int64  \n 16  job                    778887 non-null  object \n 17  dob                    778887 non-null  object \n 18  trans_num              778887 non-null  object \n 19  unix_time              778886 non-null  float64\n 20  merch_lat              778886 non-null  float64\n 21  merch_long             778886 non-null  float64\n 22  is_fraud               778887 non-null  bool   \ndtypes: bool(1), float64(6), int64(4), object(12)\nmemory usage: 95.8+ MB\n",
          "output_type": "stream"
        }
      ],
      "execution_count": 4
    },
    {
      "cell_type": "code",
      "source": "fraudTrain_df.head()",
      "metadata": {
        "trusted": true
      },
      "outputs": [
        {
          "execution_count": 5,
          "output_type": "execute_result",
          "data": {
            "text/plain": "   Unnamed: 0 trans_date_trans_time            cc_num  \\\n0           0   2019-01-01 00:00:18  2703186189652095   \n1           1   2019-01-01 00:00:44      630423337322   \n2           2   2019-01-01 00:00:51    38859492057661   \n3           3   2019-01-01 00:01:16  3534093764340240   \n4           4   2019-01-01 00:03:06   375534208663984   \n\n                             merchant       category     amt      first  \\\n0          fraud_Rippin, Kub and Mann       misc_net    4.97   Jennifer   \n1     fraud_Heller, Gutmann and Zieme    grocery_pos  107.23  Stephanie   \n2                fraud_Lind-Buckridge  entertainment  220.11     Edward   \n3  fraud_Kutch, Hermiston and Farrell  gas_transport   45.00     Jeremy   \n4                 fraud_Keeling-Crist       misc_pos   41.96      Tyler   \n\n      last gender                        street  ...      lat      long  \\\n0    Banks      F                561 Perry Cove  ...  36.0788  -81.1781   \n1     Gill      F  43039 Riley Greens Suite 393  ...  48.8878 -118.2105   \n2  Sanchez      M      594 White Dale Suite 530  ...  42.1808 -112.2620   \n3    White      M   9443 Cynthia Court Apt. 038  ...  46.2306 -112.1138   \n4   Garcia      M              408 Bradley Rest  ...  38.4207  -79.4629   \n\n   city_pop                                job         dob  \\\n0      3495          Psychologist, counselling  1988-03-09   \n1       149  Special educational needs teacher  1978-06-21   \n2      4154        Nature conservation officer  1962-01-19   \n3      1939                    Patent attorney  1967-01-12   \n4        99     Dance movement psychotherapist  1986-03-28   \n\n                          trans_num     unix_time  merch_lat  merch_long  \\\n0  0b242abb623afc578575680df30655b9  1.325376e+09  36.011293  -82.048315   \n1  1f76529f8574734946361c461b024d99  1.325376e+09  49.159047 -118.186462   \n2  a1a22d70485983eac12b5b88dad1cf95  1.325376e+09  43.150704 -112.154481   \n3  6b849c168bdad6f867558c3793159a81  1.325376e+09  47.034331 -112.561071   \n4  a41d7549acf90789359a9aa5346dcb46  1.325376e+09  38.674999  -78.632459   \n\n   is_fraud  \n0     False  \n1     False  \n2     False  \n3     False  \n4     False  \n\n[5 rows x 23 columns]",
            "text/html": "<div>\n<style scoped>\n    .dataframe tbody tr th:only-of-type {\n        vertical-align: middle;\n    }\n\n    .dataframe tbody tr th {\n        vertical-align: top;\n    }\n\n    .dataframe thead th {\n        text-align: right;\n    }\n</style>\n<table border=\"1\" class=\"dataframe\">\n  <thead>\n    <tr style=\"text-align: right;\">\n      <th></th>\n      <th>Unnamed: 0</th>\n      <th>trans_date_trans_time</th>\n      <th>cc_num</th>\n      <th>merchant</th>\n      <th>category</th>\n      <th>amt</th>\n      <th>first</th>\n      <th>last</th>\n      <th>gender</th>\n      <th>street</th>\n      <th>...</th>\n      <th>lat</th>\n      <th>long</th>\n      <th>city_pop</th>\n      <th>job</th>\n      <th>dob</th>\n      <th>trans_num</th>\n      <th>unix_time</th>\n      <th>merch_lat</th>\n      <th>merch_long</th>\n      <th>is_fraud</th>\n    </tr>\n  </thead>\n  <tbody>\n    <tr>\n      <th>0</th>\n      <td>0</td>\n      <td>2019-01-01 00:00:18</td>\n      <td>2703186189652095</td>\n      <td>fraud_Rippin, Kub and Mann</td>\n      <td>misc_net</td>\n      <td>4.97</td>\n      <td>Jennifer</td>\n      <td>Banks</td>\n      <td>F</td>\n      <td>561 Perry Cove</td>\n      <td>...</td>\n      <td>36.0788</td>\n      <td>-81.1781</td>\n      <td>3495</td>\n      <td>Psychologist, counselling</td>\n      <td>1988-03-09</td>\n      <td>0b242abb623afc578575680df30655b9</td>\n      <td>1.325376e+09</td>\n      <td>36.011293</td>\n      <td>-82.048315</td>\n      <td>False</td>\n    </tr>\n    <tr>\n      <th>1</th>\n      <td>1</td>\n      <td>2019-01-01 00:00:44</td>\n      <td>630423337322</td>\n      <td>fraud_Heller, Gutmann and Zieme</td>\n      <td>grocery_pos</td>\n      <td>107.23</td>\n      <td>Stephanie</td>\n      <td>Gill</td>\n      <td>F</td>\n      <td>43039 Riley Greens Suite 393</td>\n      <td>...</td>\n      <td>48.8878</td>\n      <td>-118.2105</td>\n      <td>149</td>\n      <td>Special educational needs teacher</td>\n      <td>1978-06-21</td>\n      <td>1f76529f8574734946361c461b024d99</td>\n      <td>1.325376e+09</td>\n      <td>49.159047</td>\n      <td>-118.186462</td>\n      <td>False</td>\n    </tr>\n    <tr>\n      <th>2</th>\n      <td>2</td>\n      <td>2019-01-01 00:00:51</td>\n      <td>38859492057661</td>\n      <td>fraud_Lind-Buckridge</td>\n      <td>entertainment</td>\n      <td>220.11</td>\n      <td>Edward</td>\n      <td>Sanchez</td>\n      <td>M</td>\n      <td>594 White Dale Suite 530</td>\n      <td>...</td>\n      <td>42.1808</td>\n      <td>-112.2620</td>\n      <td>4154</td>\n      <td>Nature conservation officer</td>\n      <td>1962-01-19</td>\n      <td>a1a22d70485983eac12b5b88dad1cf95</td>\n      <td>1.325376e+09</td>\n      <td>43.150704</td>\n      <td>-112.154481</td>\n      <td>False</td>\n    </tr>\n    <tr>\n      <th>3</th>\n      <td>3</td>\n      <td>2019-01-01 00:01:16</td>\n      <td>3534093764340240</td>\n      <td>fraud_Kutch, Hermiston and Farrell</td>\n      <td>gas_transport</td>\n      <td>45.00</td>\n      <td>Jeremy</td>\n      <td>White</td>\n      <td>M</td>\n      <td>9443 Cynthia Court Apt. 038</td>\n      <td>...</td>\n      <td>46.2306</td>\n      <td>-112.1138</td>\n      <td>1939</td>\n      <td>Patent attorney</td>\n      <td>1967-01-12</td>\n      <td>6b849c168bdad6f867558c3793159a81</td>\n      <td>1.325376e+09</td>\n      <td>47.034331</td>\n      <td>-112.561071</td>\n      <td>False</td>\n    </tr>\n    <tr>\n      <th>4</th>\n      <td>4</td>\n      <td>2019-01-01 00:03:06</td>\n      <td>375534208663984</td>\n      <td>fraud_Keeling-Crist</td>\n      <td>misc_pos</td>\n      <td>41.96</td>\n      <td>Tyler</td>\n      <td>Garcia</td>\n      <td>M</td>\n      <td>408 Bradley Rest</td>\n      <td>...</td>\n      <td>38.4207</td>\n      <td>-79.4629</td>\n      <td>99</td>\n      <td>Dance movement psychotherapist</td>\n      <td>1986-03-28</td>\n      <td>a41d7549acf90789359a9aa5346dcb46</td>\n      <td>1.325376e+09</td>\n      <td>38.674999</td>\n      <td>-78.632459</td>\n      <td>False</td>\n    </tr>\n  </tbody>\n</table>\n<p>5 rows × 23 columns</p>\n</div>"
          },
          "metadata": {}
        }
      ],
      "execution_count": 5
    },
    {
      "cell_type": "code",
      "source": "fraudTrain_df.dropna(inplace=True)\nfraudTrain_df = fraudTrain_df[['cc_num','amt','lat','long','merch_lat','merch_long','is_fraud']]\nX = fraudTrain_df\ny = fraudTrain_df['is_fraud']",
      "metadata": {
        "trusted": true
      },
      "outputs": [],
      "execution_count": 6
    },
    {
      "cell_type": "code",
      "source": "X.drop('is_fraud',axis=1,inplace=True)\nX",
      "metadata": {
        "trusted": true
      },
      "outputs": [
        {
          "execution_count": 7,
          "output_type": "execute_result",
          "data": {
            "text/plain": "                     cc_num     amt      lat      long  merch_lat  merch_long\n0          2703186189652095    4.97  36.0788  -81.1781  36.011293  -82.048315\n1              630423337322  107.23  48.8878 -118.2105  49.159047 -118.186462\n2            38859492057661  220.11  42.1808 -112.2620  43.150704 -112.154481\n3          3534093764340240   45.00  46.2306 -112.1138  47.034331 -112.561071\n4           375534208663984   41.96  38.4207  -79.4629  38.674999  -78.632459\n...                     ...     ...      ...       ...        ...         ...\n778881         502012776709   52.74  42.6315  -75.1866  42.666919  -75.791580\n778882      343668971234893    9.98  33.9349  -80.8449  33.977722  -80.312536\n778883  4428780983793657331   72.92  42.9993  -88.2196  42.883618  -88.769500\n778884  4223708906367574214   98.54  39.0965  -84.6431  38.697112  -83.816613\n778885     3547560454237873  121.78  44.5232  -86.2061  44.422837  -85.711984\n\n[778886 rows x 6 columns]",
            "text/html": "<div>\n<style scoped>\n    .dataframe tbody tr th:only-of-type {\n        vertical-align: middle;\n    }\n\n    .dataframe tbody tr th {\n        vertical-align: top;\n    }\n\n    .dataframe thead th {\n        text-align: right;\n    }\n</style>\n<table border=\"1\" class=\"dataframe\">\n  <thead>\n    <tr style=\"text-align: right;\">\n      <th></th>\n      <th>cc_num</th>\n      <th>amt</th>\n      <th>lat</th>\n      <th>long</th>\n      <th>merch_lat</th>\n      <th>merch_long</th>\n    </tr>\n  </thead>\n  <tbody>\n    <tr>\n      <th>0</th>\n      <td>2703186189652095</td>\n      <td>4.97</td>\n      <td>36.0788</td>\n      <td>-81.1781</td>\n      <td>36.011293</td>\n      <td>-82.048315</td>\n    </tr>\n    <tr>\n      <th>1</th>\n      <td>630423337322</td>\n      <td>107.23</td>\n      <td>48.8878</td>\n      <td>-118.2105</td>\n      <td>49.159047</td>\n      <td>-118.186462</td>\n    </tr>\n    <tr>\n      <th>2</th>\n      <td>38859492057661</td>\n      <td>220.11</td>\n      <td>42.1808</td>\n      <td>-112.2620</td>\n      <td>43.150704</td>\n      <td>-112.154481</td>\n    </tr>\n    <tr>\n      <th>3</th>\n      <td>3534093764340240</td>\n      <td>45.00</td>\n      <td>46.2306</td>\n      <td>-112.1138</td>\n      <td>47.034331</td>\n      <td>-112.561071</td>\n    </tr>\n    <tr>\n      <th>4</th>\n      <td>375534208663984</td>\n      <td>41.96</td>\n      <td>38.4207</td>\n      <td>-79.4629</td>\n      <td>38.674999</td>\n      <td>-78.632459</td>\n    </tr>\n    <tr>\n      <th>...</th>\n      <td>...</td>\n      <td>...</td>\n      <td>...</td>\n      <td>...</td>\n      <td>...</td>\n      <td>...</td>\n    </tr>\n    <tr>\n      <th>778881</th>\n      <td>502012776709</td>\n      <td>52.74</td>\n      <td>42.6315</td>\n      <td>-75.1866</td>\n      <td>42.666919</td>\n      <td>-75.791580</td>\n    </tr>\n    <tr>\n      <th>778882</th>\n      <td>343668971234893</td>\n      <td>9.98</td>\n      <td>33.9349</td>\n      <td>-80.8449</td>\n      <td>33.977722</td>\n      <td>-80.312536</td>\n    </tr>\n    <tr>\n      <th>778883</th>\n      <td>4428780983793657331</td>\n      <td>72.92</td>\n      <td>42.9993</td>\n      <td>-88.2196</td>\n      <td>42.883618</td>\n      <td>-88.769500</td>\n    </tr>\n    <tr>\n      <th>778884</th>\n      <td>4223708906367574214</td>\n      <td>98.54</td>\n      <td>39.0965</td>\n      <td>-84.6431</td>\n      <td>38.697112</td>\n      <td>-83.816613</td>\n    </tr>\n    <tr>\n      <th>778885</th>\n      <td>3547560454237873</td>\n      <td>121.78</td>\n      <td>44.5232</td>\n      <td>-86.2061</td>\n      <td>44.422837</td>\n      <td>-85.711984</td>\n    </tr>\n  </tbody>\n</table>\n<p>778886 rows × 6 columns</p>\n</div>"
          },
          "metadata": {}
        }
      ],
      "execution_count": 7
    },
    {
      "cell_type": "code",
      "source": "fraudTrain_df.info()",
      "metadata": {
        "trusted": true
      },
      "outputs": [
        {
          "name": "stdout",
          "text": "<class 'pandas.core.frame.DataFrame'>\nInt64Index: 778886 entries, 0 to 778885\nData columns (total 6 columns):\n #   Column      Non-Null Count   Dtype  \n---  ------      --------------   -----  \n 0   cc_num      778886 non-null  int64  \n 1   amt         778886 non-null  float64\n 2   lat         778886 non-null  float64\n 3   long        778886 non-null  float64\n 4   merch_lat   778886 non-null  float64\n 5   merch_long  778886 non-null  float64\ndtypes: float64(5), int64(1)\nmemory usage: 41.6 MB\n",
          "output_type": "stream"
        }
      ],
      "execution_count": 8
    },
    {
      "cell_type": "code",
      "source": "fraudTrain_df.head(10)",
      "metadata": {
        "trusted": true
      },
      "outputs": [
        {
          "execution_count": 9,
          "output_type": "execute_result",
          "data": {
            "text/plain": "             cc_num     amt      lat      long  merch_lat  merch_long\n0  2703186189652095    4.97  36.0788  -81.1781  36.011293  -82.048315\n1      630423337322  107.23  48.8878 -118.2105  49.159047 -118.186462\n2    38859492057661  220.11  42.1808 -112.2620  43.150704 -112.154481\n3  3534093764340240   45.00  46.2306 -112.1138  47.034331 -112.561071\n4   375534208663984   41.96  38.4207  -79.4629  38.674999  -78.632459\n5  4767265376804500   94.63  40.3750  -75.2045  40.653382  -76.152667\n6    30074693890476   44.54  37.9931 -100.9893  37.162705 -100.153370\n7  6011360759745864   71.65  38.8432  -78.6003  38.948089  -78.540296\n8  4922710831011201    4.27  40.3359  -79.6607  40.351813  -79.958146\n9  2720830304681674  198.39  36.5220  -87.3490  37.179198  -87.485381",
            "text/html": "<div>\n<style scoped>\n    .dataframe tbody tr th:only-of-type {\n        vertical-align: middle;\n    }\n\n    .dataframe tbody tr th {\n        vertical-align: top;\n    }\n\n    .dataframe thead th {\n        text-align: right;\n    }\n</style>\n<table border=\"1\" class=\"dataframe\">\n  <thead>\n    <tr style=\"text-align: right;\">\n      <th></th>\n      <th>cc_num</th>\n      <th>amt</th>\n      <th>lat</th>\n      <th>long</th>\n      <th>merch_lat</th>\n      <th>merch_long</th>\n    </tr>\n  </thead>\n  <tbody>\n    <tr>\n      <th>0</th>\n      <td>2703186189652095</td>\n      <td>4.97</td>\n      <td>36.0788</td>\n      <td>-81.1781</td>\n      <td>36.011293</td>\n      <td>-82.048315</td>\n    </tr>\n    <tr>\n      <th>1</th>\n      <td>630423337322</td>\n      <td>107.23</td>\n      <td>48.8878</td>\n      <td>-118.2105</td>\n      <td>49.159047</td>\n      <td>-118.186462</td>\n    </tr>\n    <tr>\n      <th>2</th>\n      <td>38859492057661</td>\n      <td>220.11</td>\n      <td>42.1808</td>\n      <td>-112.2620</td>\n      <td>43.150704</td>\n      <td>-112.154481</td>\n    </tr>\n    <tr>\n      <th>3</th>\n      <td>3534093764340240</td>\n      <td>45.00</td>\n      <td>46.2306</td>\n      <td>-112.1138</td>\n      <td>47.034331</td>\n      <td>-112.561071</td>\n    </tr>\n    <tr>\n      <th>4</th>\n      <td>375534208663984</td>\n      <td>41.96</td>\n      <td>38.4207</td>\n      <td>-79.4629</td>\n      <td>38.674999</td>\n      <td>-78.632459</td>\n    </tr>\n    <tr>\n      <th>5</th>\n      <td>4767265376804500</td>\n      <td>94.63</td>\n      <td>40.3750</td>\n      <td>-75.2045</td>\n      <td>40.653382</td>\n      <td>-76.152667</td>\n    </tr>\n    <tr>\n      <th>6</th>\n      <td>30074693890476</td>\n      <td>44.54</td>\n      <td>37.9931</td>\n      <td>-100.9893</td>\n      <td>37.162705</td>\n      <td>-100.153370</td>\n    </tr>\n    <tr>\n      <th>7</th>\n      <td>6011360759745864</td>\n      <td>71.65</td>\n      <td>38.8432</td>\n      <td>-78.6003</td>\n      <td>38.948089</td>\n      <td>-78.540296</td>\n    </tr>\n    <tr>\n      <th>8</th>\n      <td>4922710831011201</td>\n      <td>4.27</td>\n      <td>40.3359</td>\n      <td>-79.6607</td>\n      <td>40.351813</td>\n      <td>-79.958146</td>\n    </tr>\n    <tr>\n      <th>9</th>\n      <td>2720830304681674</td>\n      <td>198.39</td>\n      <td>36.5220</td>\n      <td>-87.3490</td>\n      <td>37.179198</td>\n      <td>-87.485381</td>\n    </tr>\n  </tbody>\n</table>\n</div>"
          },
          "metadata": {}
        }
      ],
      "execution_count": 9
    },
    {
      "cell_type": "code",
      "source": "sample_cc_df = fraudTrain_df[fraudTrain_df.cc_num==4767265376804500]\nsample_cc_df",
      "metadata": {
        "trusted": true
      },
      "outputs": [
        {
          "execution_count": 10,
          "output_type": "execute_result",
          "data": {
            "text/plain": "                  cc_num     amt     lat     long  merch_lat  merch_long\n5       4767265376804500   94.63  40.375 -75.2045  40.653382  -76.152667\n3556    4767265376804500    1.37  40.375 -75.2045  40.009640  -75.902965\n5836    4767265376804500   17.25  40.375 -75.2045  41.115743  -74.456432\n8041    4767265376804500    1.39  40.375 -75.2045  39.666801  -75.766857\n8302    4767265376804500    6.52  40.375 -75.2045  41.283461  -74.957376\n...                  ...     ...     ...      ...        ...         ...\n767173  4767265376804500   57.86  40.375 -75.2045  40.651651  -74.634390\n769953  4767265376804500    4.97  40.375 -75.2045  41.360352  -75.568389\n771060  4767265376804500  101.39  40.375 -75.2045  41.131507  -74.782780\n776431  4767265376804500   35.34  40.375 -75.2045  40.100278  -74.949956\n778798  4767265376804500  160.12  40.375 -75.2045  40.300694  -75.354089\n\n[331 rows x 6 columns]",
            "text/html": "<div>\n<style scoped>\n    .dataframe tbody tr th:only-of-type {\n        vertical-align: middle;\n    }\n\n    .dataframe tbody tr th {\n        vertical-align: top;\n    }\n\n    .dataframe thead th {\n        text-align: right;\n    }\n</style>\n<table border=\"1\" class=\"dataframe\">\n  <thead>\n    <tr style=\"text-align: right;\">\n      <th></th>\n      <th>cc_num</th>\n      <th>amt</th>\n      <th>lat</th>\n      <th>long</th>\n      <th>merch_lat</th>\n      <th>merch_long</th>\n    </tr>\n  </thead>\n  <tbody>\n    <tr>\n      <th>5</th>\n      <td>4767265376804500</td>\n      <td>94.63</td>\n      <td>40.375</td>\n      <td>-75.2045</td>\n      <td>40.653382</td>\n      <td>-76.152667</td>\n    </tr>\n    <tr>\n      <th>3556</th>\n      <td>4767265376804500</td>\n      <td>1.37</td>\n      <td>40.375</td>\n      <td>-75.2045</td>\n      <td>40.009640</td>\n      <td>-75.902965</td>\n    </tr>\n    <tr>\n      <th>5836</th>\n      <td>4767265376804500</td>\n      <td>17.25</td>\n      <td>40.375</td>\n      <td>-75.2045</td>\n      <td>41.115743</td>\n      <td>-74.456432</td>\n    </tr>\n    <tr>\n      <th>8041</th>\n      <td>4767265376804500</td>\n      <td>1.39</td>\n      <td>40.375</td>\n      <td>-75.2045</td>\n      <td>39.666801</td>\n      <td>-75.766857</td>\n    </tr>\n    <tr>\n      <th>8302</th>\n      <td>4767265376804500</td>\n      <td>6.52</td>\n      <td>40.375</td>\n      <td>-75.2045</td>\n      <td>41.283461</td>\n      <td>-74.957376</td>\n    </tr>\n    <tr>\n      <th>...</th>\n      <td>...</td>\n      <td>...</td>\n      <td>...</td>\n      <td>...</td>\n      <td>...</td>\n      <td>...</td>\n    </tr>\n    <tr>\n      <th>767173</th>\n      <td>4767265376804500</td>\n      <td>57.86</td>\n      <td>40.375</td>\n      <td>-75.2045</td>\n      <td>40.651651</td>\n      <td>-74.634390</td>\n    </tr>\n    <tr>\n      <th>769953</th>\n      <td>4767265376804500</td>\n      <td>4.97</td>\n      <td>40.375</td>\n      <td>-75.2045</td>\n      <td>41.360352</td>\n      <td>-75.568389</td>\n    </tr>\n    <tr>\n      <th>771060</th>\n      <td>4767265376804500</td>\n      <td>101.39</td>\n      <td>40.375</td>\n      <td>-75.2045</td>\n      <td>41.131507</td>\n      <td>-74.782780</td>\n    </tr>\n    <tr>\n      <th>776431</th>\n      <td>4767265376804500</td>\n      <td>35.34</td>\n      <td>40.375</td>\n      <td>-75.2045</td>\n      <td>40.100278</td>\n      <td>-74.949956</td>\n    </tr>\n    <tr>\n      <th>778798</th>\n      <td>4767265376804500</td>\n      <td>160.12</td>\n      <td>40.375</td>\n      <td>-75.2045</td>\n      <td>40.300694</td>\n      <td>-75.354089</td>\n    </tr>\n  </tbody>\n</table>\n<p>331 rows × 6 columns</p>\n</div>"
          },
          "metadata": {}
        }
      ],
      "execution_count": 10
    },
    {
      "cell_type": "code",
      "source": "from sklearn.ensemble import RandomForestClassifier",
      "metadata": {
        "trusted": true
      },
      "outputs": [],
      "execution_count": 5
    },
    {
      "cell_type": "code",
      "source": "rf_classifier = RandomForestClassifier(n_estimators=100, random_state=42)",
      "metadata": {
        "trusted": true
      },
      "outputs": [],
      "execution_count": 6
    },
    {
      "cell_type": "code",
      "source": "from sklearn.model_selection import train_test_split",
      "metadata": {
        "trusted": true
      },
      "outputs": [],
      "execution_count": 7
    },
    {
      "cell_type": "code",
      "source": "from sklearn.metrics import accuracy_score, confusion_matrix, classification_report",
      "metadata": {
        "trusted": true
      },
      "outputs": [],
      "execution_count": 18
    },
    {
      "cell_type": "code",
      "source": "",
      "metadata": {
        "trusted": true
      },
      "outputs": [],
      "execution_count": null
    },
    {
      "cell_type": "code",
      "source": "y_pred = rf_classifier.predict(X_test)\nfrom sklearn.metrics import accuracy_score, confusion_matrix, classification_report\nprint(\"Accuracy:\", accuracy_score(y_test, y_pred))\nprint(\"Confusion Matrix:\\n\", confusion_matrix(y_test, y_pred))\nprint(\"Classification Report:\\n\", classification_report(y_test, y_pred))",
      "metadata": {
        "trusted": true
      },
       "execution_count": 20
    },
    {
      "cell_type": "code",
      "source": "",
      "metadata": {
        "trusted": true
      },
      "outputs": [],
      "execution_count": null
    },
    {
      "cell_type": "code",
      "source": "",
      "metadata": {
        "trusted": true
      },
      "outputs": [],
      "execution_count": null
    },
    {
      "cell_type": "code",
      "source": "",
      "metadata": {
        "trusted": true
      },
      "outputs": [],
      "execution_count": null
    },
    {
      "cell_type": "code",
      "source": "",
      "metadata": {
        "trusted": true
      },
      "outputs": [],
      "execution_count": null
    },
    {
      "cell_type": "code",
      "source": "",
      "metadata": {
        "trusted": true
      },
      "outputs": [],
      "execution_count": null
    }
  ]
}
